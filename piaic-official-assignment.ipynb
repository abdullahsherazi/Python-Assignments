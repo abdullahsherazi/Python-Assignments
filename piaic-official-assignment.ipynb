{
 "cells": [
  {
   "cell_type": "code",
   "execution_count": 3,
   "metadata": {},
   "outputs": [
    {
     "name": "stdout",
     "output_type": "stream",
     "text": [
      "Input Radius: 3\n",
      "Area of Circle with radius 3.0  is 28.274333882308138\n"
     ]
    }
   ],
   "source": [
    "### 1. Calculate Area Of A Circle\n",
    "import math\n",
    "radius = float(input(\"Input Radius: \"))\n",
    "area = math.pi * (math.pow(radius,2))\n",
    "print(\"Area of Circle with radius\",radius,\" is\",area)\n"
   ]
  },
  {
   "cell_type": "code",
   "execution_count": 4,
   "metadata": {},
   "outputs": [
    {
     "name": "stdout",
     "output_type": "stream",
     "text": [
      "Enter Number: -1\n",
      "Negative Number Entered\n"
     ]
    }
   ],
   "source": [
    "### 2. Check number either positive or negative\n",
    "num = float(input(\"Enter Number: \"))\n",
    "if num > 0:\n",
    "    print(\"Positive Number Entered\")\n",
    "elif num == 0:\n",
    "    print(\"Zero Entered\")\n",
    "else:\n",
    "    print(\"Negative Number Entered\")\n",
    "\n",
    "    "
   ]
  },
  {
   "cell_type": "code",
   "execution_count": 5,
   "metadata": {},
   "outputs": [
    {
     "name": "stdout",
     "output_type": "stream",
     "text": [
      "Enter Numerator: 4\n",
      "Enter Denomenator: 2\n",
      "Number 4  is completely divisible by 2\n"
     ]
    }
   ],
   "source": [
    "### 3. Divisibility Check of two numbers\n",
    "num = int(input(\"Enter Numerator: \"))\n",
    "den = int(input(\"Enter Denomenator: \"))\n",
    "reminder = num % den\n",
    "\n",
    "if reminder == 0:\n",
    "    print(\"Number\",num,\" is completely divisible by\",den)\n",
    "else: \n",
    "    print(\"Number\",num,\" is not completely divisible by\",den)\n",
    "\n",
    "    "
   ]
  },
  {
   "cell_type": "code",
   "execution_count": 8,
   "metadata": {},
   "outputs": [
    {
     "name": "stdout",
     "output_type": "stream",
     "text": [
      "Enter a date in (dd/mm/yy) format: 12/10/2019\n",
      "Enter a date in (dd/mm/yy) format: 13/11/2019\n",
      "There are 32  days in between 12/10/2019  and 13/11/2019\n"
     ]
    }
   ],
   "source": [
    "### 4. Days Calculator\n",
    "from datetime import datetime\n",
    "start_date = input(\"Enter a date in (dd/mm/yy) format: \")\n",
    "end_date = input(\"Enter a date in (dd/mm/yy) format: \")\n",
    "\n",
    "start_datef = datetime.strptime(start_date,\"%d/%m/%Y\")\n",
    "end_datef = datetime.strptime(end_date,\"%d/%m/%Y\")\n",
    "days = start_datef.date() - end_datef.date()\n",
    "print(\"There are\",abs(days.days),\" days in between\",start_date, \" and\",end_date)"
   ]
  },
  {
   "cell_type": "code",
   "execution_count": 9,
   "metadata": {},
   "outputs": [
    {
     "name": "stdout",
     "output_type": "stream",
     "text": [
      "Enter Radius of Sphere: 4\n",
      "Volume of the Sphere with Radius 4.0  is 268.082573106329\n"
     ]
    }
   ],
   "source": [
    "### 5. Calculate Volume of a Sphere\n",
    "import math\n",
    "radius = float(input(\"Enter Radius of Sphere: \"))\n",
    "volume = ((4/3) * math.pi * (math.pow(radius, 3)))\n",
    "print(\"Volume of the Sphere with Radius\", radius, \" is\", volume)"
   ]
  },
  {
   "cell_type": "code",
   "execution_count": 10,
   "metadata": {},
   "outputs": [
    {
     "name": "stdout",
     "output_type": "stream",
     "text": [
      "Enter String: yes\n",
      "How many copies of String you need: 3\n",
      "3 Copies of yes are yesyesyes\n"
     ]
    }
   ],
   "source": [
    "### 6. Copy string n times\n",
    "input_str = input(\"Enter String: \")\n",
    "copies = int(input(\"How many copies of String you need: \"))\n",
    "result = input_str * copies\n",
    "print(copies, \"Copies of\", input_str,\"are\", result)"
   ]
  },
  {
   "cell_type": "code",
   "execution_count": 11,
   "metadata": {},
   "outputs": [
    {
     "name": "stdout",
     "output_type": "stream",
     "text": [
      "Enter number: 3\n",
      "3 is Odd\n"
     ]
    }
   ],
   "source": [
    "### 7. Check if number is Even or Odd\n",
    "num = int(input(\"Enter number: \"))\n",
    "if num % 2 == 0:\n",
    "    print(num, \"is Even\")\n",
    "else:\n",
    "    print(num, \"is Odd\")"
   ]
  },
  {
   "cell_type": "code",
   "execution_count": 12,
   "metadata": {},
   "outputs": [
    {
     "name": "stdout",
     "output_type": "stream",
     "text": [
      "Enter a character: A\n",
      "Letter A is Vowel\n"
     ]
    }
   ],
   "source": [
    "### 8. Vowel Tester\n",
    "vowels = (\"a\",\"e\",\"i\",\"o\",\"u\")\n",
    "letter = input(\"Enter a character: \")\n",
    "flag = False\n",
    "\n",
    "for vowel in vowels:\n",
    "    if letter.lower() == vowel:\n",
    "        flag = True\n",
    "        break\n",
    "\n",
    "if flag == True:\n",
    "    print(\"Letter\",letter,\"is Vowel\")\n",
    "else:\n",
    "    print(\"Letter\",letter,\"is not Vowel\")"
   ]
  },
  {
   "cell_type": "code",
   "execution_count": 14,
   "metadata": {},
   "outputs": [
    {
     "name": "stdout",
     "output_type": "stream",
     "text": [
      "Enter magnitude of Triangle Base: 3\n",
      "Enter magnitude of Triangle Height: 4\n",
      "Area of a Triangle with Height 4 and Base 3 is 6.0\n"
     ]
    }
   ],
   "source": [
    "### 9. Triangle area\n",
    "base = int(input(\"Enter magnitude of Triangle Base: \"))\n",
    "height = int(input(\"Enter magnitude of Triangle Height: \"))\n",
    "area = (base * height) / 2\n",
    "print(\"Area of a Triangle with Height\",height,\"and Base\",base,\"is\",area)"
   ]
  },
  {
   "cell_type": "code",
   "execution_count": 15,
   "metadata": {},
   "outputs": [
    {
     "name": "stdout",
     "output_type": "stream",
     "text": [
      "Please enter principal amount:10\n",
      "Please Enter Rate of interest in %:2\n",
      "Enter number of years for investment:100\n",
      "After  100.0  years your principal amount  10  over an interest rate of  0.02  % will be 73\n"
     ]
    }
   ],
   "source": [
    "### 10. Calculate Interest    A = P (1 + r/n) (nt)\n",
    "import math\n",
    "P = int(input(\"Please enter principal amount:\"))\n",
    "r = float(input(\"Please Enter Rate of interest in %:\"))/100\n",
    "t = float(input(\"Enter number of years for investment:\"))\n",
    "A = P * math.pow((1 + (r/12)), 12*t)\n",
    "\n",
    "print(\"After \",t,\" years your principal amount \",P,\" over an interest rate of \",r,\" % will be\",int(A))"
   ]
  },
  {
   "cell_type": "code",
   "execution_count": 16,
   "metadata": {},
   "outputs": [
    {
     "name": "stdout",
     "output_type": "stream",
     "text": [
      "Enter Co-ordinate for x1:2\n",
      "Enter Co-ordinate for y1:2\n",
      "Enter Co-ordinate for x2:3\n",
      "Enter Co-ordinate for y2:4\n",
      "Distance between points (2,2) and (3,4) is 2\n"
     ]
    }
   ],
   "source": [
    "### 11. Euclidean distance\n",
    "x1 = int(input(\"Enter Co-ordinate for x1:\"))\n",
    "y1 = int(input(\"Enter Co-ordinate for y1:\"))\n",
    "x2 = int(input(\"Enter Co-ordinate for x2:\"))\n",
    "y2 = int(input(\"Enter Co-ordinate for y2:\"))\n",
    "d = math.sqrt(math.pow((x2-x1), 2) + math.pow((y2-y1), 2))\n",
    "print(\"Distance between points ({0},{1}) and ({2},{3}) is {4}\".format(x1, y1, x2, y2, int(d)))"
   ]
  }
 ],
 "metadata": {
  "kernelspec": {
   "display_name": "Python 3",
   "language": "python",
   "name": "python3"
  },
  "language_info": {
   "codemirror_mode": {
    "name": "ipython",
    "version": 3
   },
   "file_extension": ".py",
   "mimetype": "text/x-python",
   "name": "python",
   "nbconvert_exporter": "python",
   "pygments_lexer": "ipython3",
   "version": "3.7.3"
  }
 },
 "nbformat": 4,
 "nbformat_minor": 2
}
